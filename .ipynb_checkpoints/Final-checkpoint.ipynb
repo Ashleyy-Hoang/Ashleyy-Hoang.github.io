{
 "cells": [
  {
   "cell_type": "markdown",
   "id": "exotic-contractor",
   "metadata": {},
   "source": [
    "# Data Science Pipeline Tutorial"
   ]
  },
  {
   "cell_type": "markdown",
   "id": "injured-dinner",
   "metadata": {},
   "source": [
    "## Introduction"
   ]
  },
  {
   "cell_type": "markdown",
   "id": "understood-stake",
   "metadata": {},
   "source": [
    "## Set Up"
   ]
  },
  {
   "cell_type": "markdown",
   "id": "grand-headset",
   "metadata": {},
   "source": [
    "## Data collection"
   ]
  },
  {
   "cell_type": "markdown",
   "id": "supported-homeless",
   "metadata": {},
   "source": [
    "## Data Tidying"
   ]
  },
  {
   "cell_type": "markdown",
   "id": "compliant-covering",
   "metadata": {},
   "source": [
    "## Exploratory data analysis"
   ]
  },
  {
   "cell_type": "markdown",
   "id": "growing-province",
   "metadata": {},
   "source": [
    "## Hypothesis testing and machine learning "
   ]
  },
  {
   "cell_type": "markdown",
   "id": "verified-moisture",
   "metadata": {},
   "source": [
    "## Conclusion"
   ]
  },
  {
   "cell_type": "markdown",
   "id": "cross-graham",
   "metadata": {},
   "source": [
    "##  References"
   ]
  },
  {
   "cell_type": "code",
   "execution_count": null,
   "id": "revised-movement",
   "metadata": {},
   "outputs": [],
   "source": []
  }
 ],
 "metadata": {
  "kernelspec": {
   "display_name": "Python 3",
   "language": "python",
   "name": "python3"
  },
  "language_info": {
   "codemirror_mode": {
    "name": "ipython",
    "version": 3
   },
   "file_extension": ".py",
   "mimetype": "text/x-python",
   "name": "python",
   "nbconvert_exporter": "python",
   "pygments_lexer": "ipython3",
   "version": "3.8.6"
  }
 },
 "nbformat": 4,
 "nbformat_minor": 5
}
